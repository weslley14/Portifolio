{
  "nbformat": 4,
  "nbformat_minor": 0,
  "metadata": {
    "colab": {
      "provenance": []
    },
    "kernelspec": {
      "name": "python3",
      "display_name": "Python 3"
    },
    "language_info": {
      "name": "python"
    }
  },
  "cells": [
    {
      "cell_type": "markdown",
      "source": [
        "# Atividade - Semana 03 - Python (Parte 1)\n",
        "\n",
        "Esta é atividade semanal sugerida. Você deverá preenchê-la e enviá-la dentro do prazo (até o fechamento da semana corrente)."
      ],
      "metadata": {
        "id": "bPISwE0Is_Pu"
      }
    },
    {
      "cell_type": "markdown",
      "source": [
        "###Questão 1\n",
        "\n",
        "Crie um objeto chamado `nome` e atribua seu nome à ele. Imprima na tela o resultado."
      ],
      "metadata": {
        "id": "RAg7REeatl9X"
      }
    },
    {
      "cell_type": "code",
      "execution_count": 2,
      "metadata": {
        "id": "izFFVN2Nst-F",
        "colab": {
          "base_uri": "https://localhost:8080/"
        },
        "outputId": "0a744c31-182d-473d-ccf6-e28fe195ceb3"
      },
      "outputs": [
        {
          "output_type": "stream",
          "name": "stdout",
          "text": [
            "Weslley Pereira da Costa\n"
          ]
        }
      ],
      "source": [
        "# Questao 1\n",
        "\n",
        "nome = \"Weslley Pereira da Costa\"\n",
        "print(nome)"
      ]
    },
    {
      "cell_type": "markdown",
      "source": [
        "###Questão 2\n",
        "\n",
        "Imprima na tela qual o tipo (ou classe) do objeto criado no exercício anterior."
      ],
      "metadata": {
        "id": "3xNawcemugMY"
      }
    },
    {
      "cell_type": "code",
      "source": [
        "# Questao 2\n",
        "\n",
        "type(nome)\n"
      ],
      "metadata": {
        "id": "yVxFX6kPuu6Z",
        "colab": {
          "base_uri": "https://localhost:8080/"
        },
        "outputId": "5a27bfae-b000-4e48-db07-799854f2a999"
      },
      "execution_count": 3,
      "outputs": [
        {
          "output_type": "execute_result",
          "data": {
            "text/plain": [
              "str"
            ]
          },
          "metadata": {},
          "execution_count": 3
        }
      ]
    },
    {
      "cell_type": "markdown",
      "source": [
        "###Questão 3\n",
        "\n",
        "Abaixo você encontra uma funcao que calcula o triplo de um valor. Embora, completamente sem documentação. Complete a documentação utilizando comentário iniciados com $\\#$."
      ],
      "metadata": {
        "id": "sbXN8AoMuxvx"
      }
    },
    {
      "cell_type": "code",
      "source": [
        "# Questao 3\n",
        "\n",
        "#############################\n",
        "# A função pega um valor e multiplica por 3, gerando assim um resultado.\n",
        "#############################\n",
        "\n",
        "def triplo(numero):\n",
        "    resultado = 3 * numero\n",
        "    return resultado\n",
        "\n",
        "triplo_do_numero = triplo(27)\n",
        "\n",
        "print('Triplo:', triplo_do_numero)"
      ],
      "metadata": {
        "id": "YxUJOpR2uyFh",
        "colab": {
          "base_uri": "https://localhost:8080/"
        },
        "outputId": "58d855ed-ecb8-47b5-c190-c7ebdc07afea"
      },
      "execution_count": 5,
      "outputs": [
        {
          "output_type": "stream",
          "name": "stdout",
          "text": [
            "Triplo: 81\n"
          ]
        }
      ]
    },
    {
      "cell_type": "markdown",
      "source": [
        "###Questão 4\n",
        "\n",
        "Crie uma função que calcula o quadrado de um número.\n",
        "\n",
        "> Ex.: O quadrado de 3 é 3 * 3 = 9 (basta multiplicar o número por ele mesmo)"
      ],
      "metadata": {
        "id": "8LNVxN-DvqpU"
      }
    },
    {
      "cell_type": "code",
      "source": [
        "# Questao 4\n",
        "\n",
        "def quadrado(num):\n",
        "  return num ** 2\n",
        "\n",
        "quadrado_do_numero = quadrado(512)\n",
        "\n",
        "print('Quadrado:', quadrado_do_numero)"
      ],
      "metadata": {
        "id": "lXTKOd3pvrmT",
        "colab": {
          "base_uri": "https://localhost:8080/"
        },
        "outputId": "c9ab467b-ad77-4b7e-8a19-697e0f098f11"
      },
      "execution_count": 12,
      "outputs": [
        {
          "output_type": "stream",
          "name": "stdout",
          "text": [
            "Quadrado: 262144\n"
          ]
        }
      ]
    }
  ]
}